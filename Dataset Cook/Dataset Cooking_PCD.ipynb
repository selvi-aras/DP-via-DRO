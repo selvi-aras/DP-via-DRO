{
 "cells": [
  {
   "cell_type": "code",
   "execution_count": 1,
   "id": "f74cdbc6",
   "metadata": {},
   "outputs": [],
   "source": [
    "import pandas as pd\n",
    "import numpy as np"
   ]
  },
  {
   "cell_type": "markdown",
   "id": "3affbdc2",
   "metadata": {},
   "source": [
    "#### `post-operative` cook"
   ]
  },
  {
   "cell_type": "code",
   "execution_count": 57,
   "id": "4dfd2aaf",
   "metadata": {},
   "outputs": [],
   "source": [
    "df = pd.read_csv(\"./post-operative.data.csv\", header = None)"
   ]
  },
  {
   "cell_type": "code",
   "execution_count": 58,
   "id": "7bc30b62",
   "metadata": {},
   "outputs": [],
   "source": [
    "df.loc[df[8] == \"A \", 8] = \"A\" #wrong encoding"
   ]
  },
  {
   "cell_type": "code",
   "execution_count": 60,
   "id": "aebaf95d",
   "metadata": {},
   "outputs": [],
   "source": [
    "df = df.sample(frac = 1)"
   ]
  },
  {
   "cell_type": "code",
   "execution_count": 62,
   "id": "b819c984",
   "metadata": {},
   "outputs": [],
   "source": [
    "df = df.loc[~(df == \"?\").any(axis = 1), :] #delete rows with missing value -- because only 2"
   ]
  },
  {
   "cell_type": "code",
   "execution_count": 64,
   "id": "9765726f",
   "metadata": {},
   "outputs": [
    {
     "data": {
      "text/plain": [
       " 1    62\n",
       "-1    25\n",
       "Name: 8, dtype: int64"
      ]
     },
     "execution_count": 64,
     "metadata": {},
     "output_type": "execute_result"
    }
   ],
   "source": [
    "df[8].value_counts()"
   ]
  },
  {
   "cell_type": "code",
   "execution_count": 67,
   "id": "b95fd67c",
   "metadata": {},
   "outputs": [],
   "source": [
    "cont_cols = [7]#only this one is int\n",
    "df_cont = df.loc[:, df.columns.isin(cont_cols)]\n",
    "df = df.loc[:, ~df.columns.isin(cont_cols)] #target is also here"
   ]
  },
  {
   "cell_type": "code",
   "execution_count": 70,
   "id": "ca171268",
   "metadata": {},
   "outputs": [],
   "source": [
    "categorize_dummy = pd.get_dummies(df.astype(str), drop_first = True) #one-hot-encoding and drop one"
   ]
  },
  {
   "cell_type": "code",
   "execution_count": 73,
   "id": "22afa790",
   "metadata": {},
   "outputs": [],
   "source": [
    "categorize_dummy['8_1'] = (categorize_dummy['8_1'] == 1)*2-1"
   ]
  },
  {
   "cell_type": "code",
   "execution_count": 74,
   "id": "1b05083e",
   "metadata": {},
   "outputs": [],
   "source": [
    "df = pd.concat([df_cont, categorize_dummy], axis=1)"
   ]
  },
  {
   "cell_type": "code",
   "execution_count": 76,
   "id": "6539918a",
   "metadata": {},
   "outputs": [],
   "source": [
    "df.to_csv('./post-operative-cooked.csv', header=False, index = False)"
   ]
  },
  {
   "cell_type": "code",
   "execution_count": null,
   "id": "e3546483",
   "metadata": {},
   "outputs": [],
   "source": []
  }
 ],
 "metadata": {
  "kernelspec": {
   "display_name": "Python 3 (ipykernel)",
   "language": "python",
   "name": "python3"
  },
  "language_info": {
   "codemirror_mode": {
    "name": "ipython",
    "version": 3
   },
   "file_extension": ".py",
   "mimetype": "text/x-python",
   "name": "python",
   "nbconvert_exporter": "python",
   "pygments_lexer": "ipython3",
   "version": "3.8.8"
  }
 },
 "nbformat": 4,
 "nbformat_minor": 5
}
